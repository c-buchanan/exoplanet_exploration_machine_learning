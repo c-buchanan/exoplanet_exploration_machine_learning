{
 "cells": [
  {
   "cell_type": "markdown",
   "metadata": {},
   "source": [
    "# Model Results\n",
    "### SVM Model\n",
    "* 'C': 1, 'gamma': 0.0001\n",
    "* Accuracy: 0.7730377805660115\n",
    "-----\n",
    "### SVC Model\n",
    "Accuracy: 0.5253032204098703\n",
    "-----\n",
    "### Random Forest\n",
    "\n",
    "                precision    recall  f1-score   support\n",
    "\n",
    "     CANDIDATE       0.65      0.64      0.65       562\n",
    "     CONFIRMED       0.66      0.68      0.67       573\n",
    "FALSE POSITIVE       0.98      0.98      0.98      1256\n",
    "\n",
    "     micro avg       0.83      0.83      0.83      2391\n",
    "     macro avg       0.76      0.76      0.76      2391\n",
    "  weighted avg       0.83      0.83      0.83      2391"
   ]
  },
  {
   "cell_type": "code",
   "execution_count": 38,
   "metadata": {},
   "outputs": [],
   "source": [
    "#Import required packages\n",
    "\n",
    "import numpy as np # linear algebra\n",
    "import pandas as pd \n",
    "\n",
    "\n",
    "import seaborn as sns\n",
    "import matplotlib.pyplot as plt\n",
    "\n",
    "from sklearn.preprocessing import StandardScaler, RobustScaler\n",
    "from sklearn.preprocessing import MinMaxScaler\n",
    "from sklearn.model_selection import train_test_split\n",
    "from sklearn.model_selection import KFold\n",
    "from sklearn.model_selection import cross_val_score\n",
    "\n",
    "from sklearn.model_selection import GridSearchCV\n",
    "from sklearn.linear_model import LogisticRegression\n",
    "from sklearn.svm import LinearSVC, SVC\n",
    "from sklearn.neighbors import KNeighborsClassifier\n",
    "from sklearn.ensemble import RandomForestClassifier, GradientBoostingClassifier,AdaBoostClassifier\n",
    "from sklearn.tree import DecisionTreeClassifier\n",
    "from sklearn.naive_bayes import GaussianNB\n",
    "\n",
    "from sklearn.discriminant_analysis import LinearDiscriminantAnalysis\n",
    "from sklearn.metrics import accuracy_score, confusion_matrix, classification_report\n",
    "\n",
    "import os\n",
    "import warnings"
   ]
  },
  {
   "cell_type": "code",
   "execution_count": 26,
   "metadata": {},
   "outputs": [
    {
     "data": {
      "text/html": [
       "<div>\n",
       "<style scoped>\n",
       "    .dataframe tbody tr th:only-of-type {\n",
       "        vertical-align: middle;\n",
       "    }\n",
       "\n",
       "    .dataframe tbody tr th {\n",
       "        vertical-align: top;\n",
       "    }\n",
       "\n",
       "    .dataframe thead th {\n",
       "        text-align: right;\n",
       "    }\n",
       "</style>\n",
       "<table border=\"1\" class=\"dataframe\">\n",
       "  <thead>\n",
       "    <tr style=\"text-align: right;\">\n",
       "      <th></th>\n",
       "      <th>koi_disposition</th>\n",
       "      <th>koi_fpflag_nt</th>\n",
       "      <th>koi_fpflag_ss</th>\n",
       "      <th>koi_fpflag_co</th>\n",
       "      <th>koi_fpflag_ec</th>\n",
       "      <th>koi_period</th>\n",
       "      <th>koi_time0bk</th>\n",
       "      <th>koi_duration</th>\n",
       "      <th>ra</th>\n",
       "      <th>dec</th>\n",
       "    </tr>\n",
       "  </thead>\n",
       "  <tbody>\n",
       "    <tr>\n",
       "      <th>0</th>\n",
       "      <td>CONFIRMED</td>\n",
       "      <td>0</td>\n",
       "      <td>0</td>\n",
       "      <td>0</td>\n",
       "      <td>0</td>\n",
       "      <td>9.488036</td>\n",
       "      <td>170.538750</td>\n",
       "      <td>2.95750</td>\n",
       "      <td>291.93423</td>\n",
       "      <td>48.141651</td>\n",
       "    </tr>\n",
       "    <tr>\n",
       "      <th>1</th>\n",
       "      <td>CONFIRMED</td>\n",
       "      <td>0</td>\n",
       "      <td>0</td>\n",
       "      <td>0</td>\n",
       "      <td>0</td>\n",
       "      <td>54.418383</td>\n",
       "      <td>162.513840</td>\n",
       "      <td>4.50700</td>\n",
       "      <td>291.93423</td>\n",
       "      <td>48.141651</td>\n",
       "    </tr>\n",
       "    <tr>\n",
       "      <th>2</th>\n",
       "      <td>FALSE POSITIVE</td>\n",
       "      <td>0</td>\n",
       "      <td>1</td>\n",
       "      <td>0</td>\n",
       "      <td>0</td>\n",
       "      <td>19.899140</td>\n",
       "      <td>175.850252</td>\n",
       "      <td>1.78220</td>\n",
       "      <td>297.00482</td>\n",
       "      <td>48.134129</td>\n",
       "    </tr>\n",
       "    <tr>\n",
       "      <th>3</th>\n",
       "      <td>FALSE POSITIVE</td>\n",
       "      <td>0</td>\n",
       "      <td>1</td>\n",
       "      <td>0</td>\n",
       "      <td>0</td>\n",
       "      <td>1.736952</td>\n",
       "      <td>170.307565</td>\n",
       "      <td>2.40641</td>\n",
       "      <td>285.53461</td>\n",
       "      <td>48.285210</td>\n",
       "    </tr>\n",
       "    <tr>\n",
       "      <th>4</th>\n",
       "      <td>CONFIRMED</td>\n",
       "      <td>0</td>\n",
       "      <td>0</td>\n",
       "      <td>0</td>\n",
       "      <td>0</td>\n",
       "      <td>2.525592</td>\n",
       "      <td>171.595550</td>\n",
       "      <td>1.65450</td>\n",
       "      <td>288.75488</td>\n",
       "      <td>48.226200</td>\n",
       "    </tr>\n",
       "  </tbody>\n",
       "</table>\n",
       "</div>"
      ],
      "text/plain": [
       "  koi_disposition  koi_fpflag_nt  koi_fpflag_ss  koi_fpflag_co  koi_fpflag_ec  \\\n",
       "0       CONFIRMED              0              0              0              0   \n",
       "1       CONFIRMED              0              0              0              0   \n",
       "2  FALSE POSITIVE              0              1              0              0   \n",
       "3  FALSE POSITIVE              0              1              0              0   \n",
       "4       CONFIRMED              0              0              0              0   \n",
       "\n",
       "   koi_period  koi_time0bk  koi_duration         ra        dec  \n",
       "0    9.488036   170.538750       2.95750  291.93423  48.141651  \n",
       "1   54.418383   162.513840       4.50700  291.93423  48.141651  \n",
       "2   19.899140   175.850252       1.78220  297.00482  48.134129  \n",
       "3    1.736952   170.307565       2.40641  285.53461  48.285210  \n",
       "4    2.525592   171.595550       1.65450  288.75488  48.226200  "
      ]
     },
     "execution_count": 26,
     "metadata": {},
     "output_type": "execute_result"
    }
   ],
   "source": [
    "# Read in the cleaned CSV file (See R Notebook)\n",
    "df = pd.read_csv(\"cleaned_data.csv\")\n",
    "df = df.drop(columns=['Unnamed: 0'])\n",
    "df.head()"
   ]
  },
  {
   "cell_type": "code",
   "execution_count": 27,
   "metadata": {},
   "outputs": [
    {
     "data": {
      "text/html": [
       "<div>\n",
       "<style scoped>\n",
       "    .dataframe tbody tr th:only-of-type {\n",
       "        vertical-align: middle;\n",
       "    }\n",
       "\n",
       "    .dataframe tbody tr th {\n",
       "        vertical-align: top;\n",
       "    }\n",
       "\n",
       "    .dataframe thead th {\n",
       "        text-align: right;\n",
       "    }\n",
       "</style>\n",
       "<table border=\"1\" class=\"dataframe\">\n",
       "  <thead>\n",
       "    <tr style=\"text-align: right;\">\n",
       "      <th></th>\n",
       "      <th>count</th>\n",
       "      <th>mean</th>\n",
       "      <th>std</th>\n",
       "      <th>min</th>\n",
       "      <th>25%</th>\n",
       "      <th>50%</th>\n",
       "      <th>75%</th>\n",
       "      <th>max</th>\n",
       "    </tr>\n",
       "  </thead>\n",
       "  <tbody>\n",
       "    <tr>\n",
       "      <th>koi_fpflag_nt</th>\n",
       "      <td>9564.0</td>\n",
       "      <td>0.188206</td>\n",
       "      <td>0.390897</td>\n",
       "      <td>0.000000</td>\n",
       "      <td>0.000000</td>\n",
       "      <td>0.000000</td>\n",
       "      <td>0.000000</td>\n",
       "      <td>1.000000</td>\n",
       "    </tr>\n",
       "    <tr>\n",
       "      <th>koi_fpflag_ss</th>\n",
       "      <td>9564.0</td>\n",
       "      <td>0.231598</td>\n",
       "      <td>0.421875</td>\n",
       "      <td>0.000000</td>\n",
       "      <td>0.000000</td>\n",
       "      <td>0.000000</td>\n",
       "      <td>0.000000</td>\n",
       "      <td>1.000000</td>\n",
       "    </tr>\n",
       "    <tr>\n",
       "      <th>koi_fpflag_co</th>\n",
       "      <td>9564.0</td>\n",
       "      <td>0.194898</td>\n",
       "      <td>0.396143</td>\n",
       "      <td>0.000000</td>\n",
       "      <td>0.000000</td>\n",
       "      <td>0.000000</td>\n",
       "      <td>0.000000</td>\n",
       "      <td>1.000000</td>\n",
       "    </tr>\n",
       "    <tr>\n",
       "      <th>koi_fpflag_ec</th>\n",
       "      <td>9564.0</td>\n",
       "      <td>0.120033</td>\n",
       "      <td>0.325018</td>\n",
       "      <td>0.000000</td>\n",
       "      <td>0.000000</td>\n",
       "      <td>0.000000</td>\n",
       "      <td>0.000000</td>\n",
       "      <td>1.000000</td>\n",
       "    </tr>\n",
       "    <tr>\n",
       "      <th>koi_period</th>\n",
       "      <td>9564.0</td>\n",
       "      <td>75.671358</td>\n",
       "      <td>1334.744046</td>\n",
       "      <td>0.241843</td>\n",
       "      <td>2.733684</td>\n",
       "      <td>9.752831</td>\n",
       "      <td>40.715178</td>\n",
       "      <td>129995.778400</td>\n",
       "    </tr>\n",
       "    <tr>\n",
       "      <th>koi_time0bk</th>\n",
       "      <td>9564.0</td>\n",
       "      <td>166.183251</td>\n",
       "      <td>67.918960</td>\n",
       "      <td>120.515914</td>\n",
       "      <td>132.761718</td>\n",
       "      <td>137.224595</td>\n",
       "      <td>170.694603</td>\n",
       "      <td>1472.522306</td>\n",
       "    </tr>\n",
       "    <tr>\n",
       "      <th>koi_duration</th>\n",
       "      <td>9564.0</td>\n",
       "      <td>5.621606</td>\n",
       "      <td>6.471554</td>\n",
       "      <td>0.052000</td>\n",
       "      <td>2.437750</td>\n",
       "      <td>3.792600</td>\n",
       "      <td>6.276500</td>\n",
       "      <td>138.540000</td>\n",
       "    </tr>\n",
       "    <tr>\n",
       "      <th>ra</th>\n",
       "      <td>9564.0</td>\n",
       "      <td>292.060163</td>\n",
       "      <td>4.766657</td>\n",
       "      <td>279.852720</td>\n",
       "      <td>288.660770</td>\n",
       "      <td>292.261125</td>\n",
       "      <td>295.859160</td>\n",
       "      <td>301.720760</td>\n",
       "    </tr>\n",
       "    <tr>\n",
       "      <th>dec</th>\n",
       "      <td>9564.0</td>\n",
       "      <td>43.810433</td>\n",
       "      <td>3.601243</td>\n",
       "      <td>36.577381</td>\n",
       "      <td>40.777173</td>\n",
       "      <td>43.677504</td>\n",
       "      <td>46.714611</td>\n",
       "      <td>52.336010</td>\n",
       "    </tr>\n",
       "  </tbody>\n",
       "</table>\n",
       "</div>"
      ],
      "text/plain": [
       "                count        mean          std         min         25%  \\\n",
       "koi_fpflag_nt  9564.0    0.188206     0.390897    0.000000    0.000000   \n",
       "koi_fpflag_ss  9564.0    0.231598     0.421875    0.000000    0.000000   \n",
       "koi_fpflag_co  9564.0    0.194898     0.396143    0.000000    0.000000   \n",
       "koi_fpflag_ec  9564.0    0.120033     0.325018    0.000000    0.000000   \n",
       "koi_period     9564.0   75.671358  1334.744046    0.241843    2.733684   \n",
       "koi_time0bk    9564.0  166.183251    67.918960  120.515914  132.761718   \n",
       "koi_duration   9564.0    5.621606     6.471554    0.052000    2.437750   \n",
       "ra             9564.0  292.060163     4.766657  279.852720  288.660770   \n",
       "dec            9564.0   43.810433     3.601243   36.577381   40.777173   \n",
       "\n",
       "                      50%         75%            max  \n",
       "koi_fpflag_nt    0.000000    0.000000       1.000000  \n",
       "koi_fpflag_ss    0.000000    0.000000       1.000000  \n",
       "koi_fpflag_co    0.000000    0.000000       1.000000  \n",
       "koi_fpflag_ec    0.000000    0.000000       1.000000  \n",
       "koi_period       9.752831   40.715178  129995.778400  \n",
       "koi_time0bk    137.224595  170.694603    1472.522306  \n",
       "koi_duration     3.792600    6.276500     138.540000  \n",
       "ra             292.261125  295.859160     301.720760  \n",
       "dec             43.677504   46.714611      52.336010  "
      ]
     },
     "execution_count": 27,
     "metadata": {},
     "output_type": "execute_result"
    }
   ],
   "source": [
    "df.describe().T"
   ]
  },
  {
   "cell_type": "markdown",
   "metadata": {},
   "source": [
    "# SVM Model\n",
    "### Create a Train Test Split\n",
    "\n",
    "Use `koi_disposition` for the y values"
   ]
  },
  {
   "cell_type": "code",
   "execution_count": 28,
   "metadata": {},
   "outputs": [
    {
     "name": "stderr",
     "output_type": "stream",
     "text": [
      "C:\\Users\\Courtney\\Anaconda3\\lib\\site-packages\\sklearn\\preprocessing\\data.py:323: DataConversionWarning: Data with input dtype int64, float64 were all converted to float64 by MinMaxScaler.\n",
      "  return self.partial_fit(X, y)\n"
     ]
    }
   ],
   "source": [
    "# Create the test and train data\n",
    "\n",
    "y = df[\"koi_disposition\"]\n",
    "X = df.drop(columns=[\"koi_disposition\"])\n",
    "\n",
    "X_train, X_test, y_train, y_test = train_test_split(X, y, random_state=1, stratify=y)\n",
    "\n",
    "# Use the MinMaxScaler to preprocess the data\n",
    "X_scaler = MinMaxScaler().fit(X_train)\n",
    "\n",
    "X_train_scaled = X_scaler.transform(X_train)\n",
    "X_test_scaled = X_scaler.transform(X_test)"
   ]
  },
  {
   "cell_type": "markdown",
   "metadata": {},
   "source": [
    "### Train the SVM Model"
   ]
  },
  {
   "cell_type": "code",
   "execution_count": 29,
   "metadata": {},
   "outputs": [
    {
     "data": {
      "text/plain": [
       "SVC(C=1.0, cache_size=200, class_weight=None, coef0=0.0,\n",
       "  decision_function_shape='ovr', degree=3, gamma='auto_deprecated',\n",
       "  kernel='linear', max_iter=-1, probability=False, random_state=None,\n",
       "  shrinking=True, tol=0.001, verbose=False)"
      ]
     },
     "execution_count": 29,
     "metadata": {},
     "output_type": "execute_result"
    }
   ],
   "source": [
    "# Support vector machine linear classifier\n",
    "svm_linear = SVC(kernel='linear')\n",
    "svm_linear.fit(X_train_scaled, y_train)"
   ]
  },
  {
   "cell_type": "code",
   "execution_count": 30,
   "metadata": {},
   "outputs": [
    {
     "name": "stdout",
     "output_type": "stream",
     "text": [
      "Training Data Score: 0.7747107207583995\n",
      "Testing Data Score: 0.7586783772480133\n"
     ]
    }
   ],
   "source": [
    "print(f\"Training Data Score: {svm_linear.score(X_train_scaled, y_train)}\")\n",
    "print(f\"Testing Data Score: {svm_linear.score(X_test_scaled, y_test)}\")"
   ]
  },
  {
   "cell_type": "markdown",
   "metadata": {},
   "source": [
    "### Tune Model Parameters using GridSearchCV"
   ]
  },
  {
   "cell_type": "code",
   "execution_count": 34,
   "metadata": {},
   "outputs": [
    {
     "name": "stderr",
     "output_type": "stream",
     "text": [
      "C:\\Users\\Courtney\\Anaconda3\\lib\\site-packages\\sklearn\\model_selection\\_split.py:2053: FutureWarning: You should specify a value for 'cv' instead of relying on the default value. The default value will change from 3 to 5 in version 0.22.\n",
      "  warnings.warn(CV_WARNING, FutureWarning)\n",
      "[Parallel(n_jobs=1)]: Using backend SequentialBackend with 1 concurrent workers.\n"
     ]
    },
    {
     "name": "stdout",
     "output_type": "stream",
     "text": [
      "Fitting 3 folds for each of 49 candidates, totalling 147 fits\n",
      "[CV] C=0.0001, gamma=0.0001 ..........................................\n",
      "[CV] . C=0.0001, gamma=0.0001, score=0.5250836120401338, total=   0.4s\n",
      "[CV] C=0.0001, gamma=0.0001 ..........................................\n"
     ]
    },
    {
     "name": "stderr",
     "output_type": "stream",
     "text": [
      "[Parallel(n_jobs=1)]: Done   1 out of   1 | elapsed:    0.6s remaining:    0.0s\n"
     ]
    },
    {
     "name": "stdout",
     "output_type": "stream",
     "text": [
      "[CV] . C=0.0001, gamma=0.0001, score=0.5253032204098703, total=   0.4s\n",
      "[CV] C=0.0001, gamma=0.0001 ..........................................\n"
     ]
    },
    {
     "name": "stderr",
     "output_type": "stream",
     "text": [
      "[Parallel(n_jobs=1)]: Done   2 out of   2 | elapsed:    1.3s remaining:    0.0s\n"
     ]
    },
    {
     "name": "stdout",
     "output_type": "stream",
     "text": [
      "[CV] . C=0.0001, gamma=0.0001, score=0.5251046025104602, total=   0.5s\n",
      "[CV] C=0.0001, gamma=0.001 ...........................................\n"
     ]
    },
    {
     "name": "stderr",
     "output_type": "stream",
     "text": [
      "[Parallel(n_jobs=1)]: Done   3 out of   3 | elapsed:    2.1s remaining:    0.0s\n"
     ]
    },
    {
     "name": "stdout",
     "output_type": "stream",
     "text": [
      "[CV] .. C=0.0001, gamma=0.001, score=0.5250836120401338, total=   0.4s\n",
      "[CV] C=0.0001, gamma=0.001 ...........................................\n"
     ]
    },
    {
     "name": "stderr",
     "output_type": "stream",
     "text": [
      "[Parallel(n_jobs=1)]: Done   4 out of   4 | elapsed:    2.9s remaining:    0.0s\n"
     ]
    },
    {
     "name": "stdout",
     "output_type": "stream",
     "text": [
      "[CV] .. C=0.0001, gamma=0.001, score=0.5253032204098703, total=   0.5s\n",
      "[CV] C=0.0001, gamma=0.001 ...........................................\n"
     ]
    },
    {
     "name": "stderr",
     "output_type": "stream",
     "text": [
      "[Parallel(n_jobs=1)]: Done   5 out of   5 | elapsed:    3.6s remaining:    0.0s\n"
     ]
    },
    {
     "name": "stdout",
     "output_type": "stream",
     "text": [
      "[CV] .. C=0.0001, gamma=0.001, score=0.5251046025104602, total=   0.4s\n",
      "[CV] C=0.0001, gamma=0.01 ............................................\n"
     ]
    },
    {
     "name": "stderr",
     "output_type": "stream",
     "text": [
      "[Parallel(n_jobs=1)]: Done   6 out of   6 | elapsed:    4.4s remaining:    0.0s\n"
     ]
    },
    {
     "name": "stdout",
     "output_type": "stream",
     "text": [
      "[CV] ... C=0.0001, gamma=0.01, score=0.5250836120401338, total=   0.5s\n",
      "[CV] C=0.0001, gamma=0.01 ............................................\n",
      "[CV] ... C=0.0001, gamma=0.01, score=0.5253032204098703, total=   0.5s\n",
      "[CV] C=0.0001, gamma=0.01 ............................................\n",
      "[CV] ... C=0.0001, gamma=0.01, score=0.5251046025104602, total=   0.4s\n",
      "[CV] C=0.0001, gamma=0.1 .............................................\n",
      "[CV] .... C=0.0001, gamma=0.1, score=0.5250836120401338, total=   0.4s\n",
      "[CV] C=0.0001, gamma=0.1 .............................................\n",
      "[CV] .... C=0.0001, gamma=0.1, score=0.5253032204098703, total=   0.4s\n",
      "[CV] C=0.0001, gamma=0.1 .............................................\n",
      "[CV] .... C=0.0001, gamma=0.1, score=0.5251046025104602, total=   0.5s\n",
      "[CV] C=0.0001, gamma=1 ...............................................\n",
      "[CV] ...... C=0.0001, gamma=1, score=0.5250836120401338, total=   0.4s\n",
      "[CV] C=0.0001, gamma=1 ...............................................\n",
      "[CV] ...... C=0.0001, gamma=1, score=0.5253032204098703, total=   0.5s\n",
      "[CV] C=0.0001, gamma=1 ...............................................\n",
      "[CV] ...... C=0.0001, gamma=1, score=0.5251046025104602, total=   0.6s\n",
      "[CV] C=0.0001, gamma=5 ...............................................\n",
      "[CV] ...... C=0.0001, gamma=5, score=0.5250836120401338, total=   0.5s\n",
      "[CV] C=0.0001, gamma=5 ...............................................\n",
      "[CV] ...... C=0.0001, gamma=5, score=0.5253032204098703, total=   0.4s\n",
      "[CV] C=0.0001, gamma=5 ...............................................\n",
      "[CV] ...... C=0.0001, gamma=5, score=0.5251046025104602, total=   0.4s\n",
      "[CV] C=0.0001, gamma=10 ..............................................\n",
      "[CV] ..... C=0.0001, gamma=10, score=0.5250836120401338, total=   0.4s\n",
      "[CV] C=0.0001, gamma=10 ..............................................\n",
      "[CV] ..... C=0.0001, gamma=10, score=0.5253032204098703, total=   0.4s\n",
      "[CV] C=0.0001, gamma=10 ..............................................\n",
      "[CV] ..... C=0.0001, gamma=10, score=0.5251046025104602, total=   0.4s\n",
      "[CV] C=0.001, gamma=0.0001 ...........................................\n",
      "[CV] .. C=0.001, gamma=0.0001, score=0.5250836120401338, total=   0.4s\n",
      "[CV] C=0.001, gamma=0.0001 ...........................................\n",
      "[CV] .. C=0.001, gamma=0.0001, score=0.5253032204098703, total=   0.4s\n",
      "[CV] C=0.001, gamma=0.0001 ...........................................\n",
      "[CV] .. C=0.001, gamma=0.0001, score=0.5251046025104602, total=   0.4s\n",
      "[CV] C=0.001, gamma=0.001 ............................................\n",
      "[CV] ... C=0.001, gamma=0.001, score=0.5250836120401338, total=   0.4s\n",
      "[CV] C=0.001, gamma=0.001 ............................................\n",
      "[CV] ... C=0.001, gamma=0.001, score=0.5253032204098703, total=   0.4s\n",
      "[CV] C=0.001, gamma=0.001 ............................................\n",
      "[CV] ... C=0.001, gamma=0.001, score=0.5251046025104602, total=   0.5s\n",
      "[CV] C=0.001, gamma=0.01 .............................................\n",
      "[CV] .... C=0.001, gamma=0.01, score=0.5250836120401338, total=   0.4s\n",
      "[CV] C=0.001, gamma=0.01 .............................................\n",
      "[CV] .... C=0.001, gamma=0.01, score=0.5253032204098703, total=   0.4s\n",
      "[CV] C=0.001, gamma=0.01 .............................................\n",
      "[CV] .... C=0.001, gamma=0.01, score=0.5251046025104602, total=   0.4s\n",
      "[CV] C=0.001, gamma=0.1 ..............................................\n",
      "[CV] ..... C=0.001, gamma=0.1, score=0.5250836120401338, total=   0.4s\n",
      "[CV] C=0.001, gamma=0.1 ..............................................\n",
      "[CV] ..... C=0.001, gamma=0.1, score=0.5253032204098703, total=   0.4s\n",
      "[CV] C=0.001, gamma=0.1 ..............................................\n",
      "[CV] ..... C=0.001, gamma=0.1, score=0.5251046025104602, total=   0.4s\n",
      "[CV] C=0.001, gamma=1 ................................................\n",
      "[CV] ....... C=0.001, gamma=1, score=0.5250836120401338, total=   0.5s\n",
      "[CV] C=0.001, gamma=1 ................................................\n",
      "[CV] ....... C=0.001, gamma=1, score=0.5253032204098703, total=   0.4s\n",
      "[CV] C=0.001, gamma=1 ................................................\n",
      "[CV] ....... C=0.001, gamma=1, score=0.5251046025104602, total=   0.4s\n",
      "[CV] C=0.001, gamma=5 ................................................\n",
      "[CV] ....... C=0.001, gamma=5, score=0.5250836120401338, total=   0.4s\n",
      "[CV] C=0.001, gamma=5 ................................................\n",
      "[CV] ....... C=0.001, gamma=5, score=0.5253032204098703, total=   0.4s\n",
      "[CV] C=0.001, gamma=5 ................................................\n",
      "[CV] ....... C=0.001, gamma=5, score=0.5251046025104602, total=   0.4s\n",
      "[CV] C=0.001, gamma=10 ...............................................\n",
      "[CV] ...... C=0.001, gamma=10, score=0.5250836120401338, total=   0.4s\n",
      "[CV] C=0.001, gamma=10 ...............................................\n",
      "[CV] ...... C=0.001, gamma=10, score=0.5253032204098703, total=   0.4s\n",
      "[CV] C=0.001, gamma=10 ...............................................\n",
      "[CV] ...... C=0.001, gamma=10, score=0.5251046025104602, total=   0.5s\n",
      "[CV] C=0.01, gamma=0.0001 ............................................\n",
      "[CV] ... C=0.01, gamma=0.0001, score=0.7362040133779264, total=   0.3s\n",
      "[CV] C=0.01, gamma=0.0001 ............................................\n",
      "[CV] ... C=0.01, gamma=0.0001, score=0.7369301547469678, total=   0.2s\n",
      "[CV] C=0.01, gamma=0.0001 ............................................\n",
      "[CV] ... C=0.01, gamma=0.0001, score=0.7309623430962343, total=   0.2s\n",
      "[CV] C=0.01, gamma=0.001 .............................................\n",
      "[CV] .... C=0.01, gamma=0.001, score=0.7362040133779264, total=   0.3s\n",
      "[CV] C=0.01, gamma=0.001 .............................................\n",
      "[CV] .... C=0.01, gamma=0.001, score=0.7369301547469678, total=   0.2s\n",
      "[CV] C=0.01, gamma=0.001 .............................................\n",
      "[CV] .... C=0.01, gamma=0.001, score=0.7309623430962343, total=   0.3s\n",
      "[CV] C=0.01, gamma=0.01 ..............................................\n",
      "[CV] ..... C=0.01, gamma=0.01, score=0.7362040133779264, total=   0.2s\n",
      "[CV] C=0.01, gamma=0.01 ..............................................\n",
      "[CV] ..... C=0.01, gamma=0.01, score=0.7369301547469678, total=   0.2s\n",
      "[CV] C=0.01, gamma=0.01 ..............................................\n",
      "[CV] ..... C=0.01, gamma=0.01, score=0.7309623430962343, total=   0.2s\n",
      "[CV] C=0.01, gamma=0.1 ...............................................\n",
      "[CV] ...... C=0.01, gamma=0.1, score=0.7362040133779264, total=   0.3s\n",
      "[CV] C=0.01, gamma=0.1 ...............................................\n",
      "[CV] ...... C=0.01, gamma=0.1, score=0.7369301547469678, total=   0.3s\n",
      "[CV] C=0.01, gamma=0.1 ...............................................\n",
      "[CV] ...... C=0.01, gamma=0.1, score=0.7309623430962343, total=   0.2s\n",
      "[CV] C=0.01, gamma=1 .................................................\n",
      "[CV] ........ C=0.01, gamma=1, score=0.7362040133779264, total=   0.3s\n",
      "[CV] C=0.01, gamma=1 .................................................\n",
      "[CV] ........ C=0.01, gamma=1, score=0.7369301547469678, total=   0.2s\n",
      "[CV] C=0.01, gamma=1 .................................................\n",
      "[CV] ........ C=0.01, gamma=1, score=0.7309623430962343, total=   0.2s\n",
      "[CV] C=0.01, gamma=5 .................................................\n",
      "[CV] ........ C=0.01, gamma=5, score=0.7362040133779264, total=   0.2s\n",
      "[CV] C=0.01, gamma=5 .................................................\n",
      "[CV] ........ C=0.01, gamma=5, score=0.7369301547469678, total=   0.2s\n",
      "[CV] C=0.01, gamma=5 .................................................\n",
      "[CV] ........ C=0.01, gamma=5, score=0.7309623430962343, total=   0.2s\n",
      "[CV] C=0.01, gamma=10 ................................................\n",
      "[CV] ....... C=0.01, gamma=10, score=0.7362040133779264, total=   0.2s\n",
      "[CV] C=0.01, gamma=10 ................................................\n",
      "[CV] ....... C=0.01, gamma=10, score=0.7369301547469678, total=   0.3s\n",
      "[CV] C=0.01, gamma=10 ................................................\n",
      "[CV] ....... C=0.01, gamma=10, score=0.7309623430962343, total=   0.3s\n",
      "[CV] C=0.1, gamma=0.0001 .............................................\n",
      "[CV] .... C=0.1, gamma=0.0001, score=0.7646321070234113, total=   0.1s\n",
      "[CV] C=0.1, gamma=0.0001 .............................................\n"
     ]
    },
    {
     "name": "stdout",
     "output_type": "stream",
     "text": [
      "[CV] .... C=0.1, gamma=0.0001, score=0.7687160184023422, total=   0.1s\n",
      "[CV] C=0.1, gamma=0.0001 .............................................\n",
      "[CV] .... C=0.1, gamma=0.0001, score=0.7757322175732217, total=   0.2s\n",
      "[CV] C=0.1, gamma=0.001 ..............................................\n",
      "[CV] ..... C=0.1, gamma=0.001, score=0.7646321070234113, total=   0.1s\n",
      "[CV] C=0.1, gamma=0.001 ..............................................\n",
      "[CV] ..... C=0.1, gamma=0.001, score=0.7687160184023422, total=   0.1s\n",
      "[CV] C=0.1, gamma=0.001 ..............................................\n",
      "[CV] ..... C=0.1, gamma=0.001, score=0.7757322175732217, total=   0.1s\n",
      "[CV] C=0.1, gamma=0.01 ...............................................\n",
      "[CV] ...... C=0.1, gamma=0.01, score=0.7646321070234113, total=   0.1s\n",
      "[CV] C=0.1, gamma=0.01 ...............................................\n",
      "[CV] ...... C=0.1, gamma=0.01, score=0.7687160184023422, total=   0.1s\n",
      "[CV] C=0.1, gamma=0.01 ...............................................\n",
      "[CV] ...... C=0.1, gamma=0.01, score=0.7757322175732217, total=   0.1s\n",
      "[CV] C=0.1, gamma=0.1 ................................................\n",
      "[CV] ....... C=0.1, gamma=0.1, score=0.7646321070234113, total=   0.1s\n",
      "[CV] C=0.1, gamma=0.1 ................................................\n",
      "[CV] ....... C=0.1, gamma=0.1, score=0.7687160184023422, total=   0.1s\n",
      "[CV] C=0.1, gamma=0.1 ................................................\n",
      "[CV] ....... C=0.1, gamma=0.1, score=0.7757322175732217, total=   0.2s\n",
      "[CV] C=0.1, gamma=1 ..................................................\n",
      "[CV] ......... C=0.1, gamma=1, score=0.7646321070234113, total=   0.2s\n",
      "[CV] C=0.1, gamma=1 ..................................................\n",
      "[CV] ......... C=0.1, gamma=1, score=0.7687160184023422, total=   0.1s\n",
      "[CV] C=0.1, gamma=1 ..................................................\n",
      "[CV] ......... C=0.1, gamma=1, score=0.7757322175732217, total=   0.1s\n",
      "[CV] C=0.1, gamma=5 ..................................................\n",
      "[CV] ......... C=0.1, gamma=5, score=0.7646321070234113, total=   0.1s\n",
      "[CV] C=0.1, gamma=5 ..................................................\n",
      "[CV] ......... C=0.1, gamma=5, score=0.7687160184023422, total=   0.1s\n",
      "[CV] C=0.1, gamma=5 ..................................................\n",
      "[CV] ......... C=0.1, gamma=5, score=0.7757322175732217, total=   0.1s\n",
      "[CV] C=0.1, gamma=10 .................................................\n",
      "[CV] ........ C=0.1, gamma=10, score=0.7646321070234113, total=   0.1s\n",
      "[CV] C=0.1, gamma=10 .................................................\n",
      "[CV] ........ C=0.1, gamma=10, score=0.7687160184023422, total=   0.1s\n",
      "[CV] C=0.1, gamma=10 .................................................\n",
      "[CV] ........ C=0.1, gamma=10, score=0.7757322175732217, total=   0.1s\n",
      "[CV] C=1, gamma=0.0001 ...............................................\n",
      "[CV] ...... C=1, gamma=0.0001, score=0.7679765886287625, total=   0.1s\n",
      "[CV] C=1, gamma=0.0001 ...............................................\n",
      "[CV] ...... C=1, gamma=0.0001, score=0.7733166039314094, total=   0.1s\n",
      "[CV] C=1, gamma=0.0001 ...............................................\n",
      "[CV] ...... C=1, gamma=0.0001, score=0.7778242677824267, total=   0.1s\n",
      "[CV] C=1, gamma=0.001 ................................................\n",
      "[CV] ....... C=1, gamma=0.001, score=0.7679765886287625, total=   0.1s\n",
      "[CV] C=1, gamma=0.001 ................................................\n",
      "[CV] ....... C=1, gamma=0.001, score=0.7733166039314094, total=   0.1s\n",
      "[CV] C=1, gamma=0.001 ................................................\n",
      "[CV] ....... C=1, gamma=0.001, score=0.7778242677824267, total=   0.1s\n",
      "[CV] C=1, gamma=0.01 .................................................\n",
      "[CV] ........ C=1, gamma=0.01, score=0.7679765886287625, total=   0.1s\n",
      "[CV] C=1, gamma=0.01 .................................................\n",
      "[CV] ........ C=1, gamma=0.01, score=0.7733166039314094, total=   0.1s\n",
      "[CV] C=1, gamma=0.01 .................................................\n",
      "[CV] ........ C=1, gamma=0.01, score=0.7778242677824267, total=   0.1s\n",
      "[CV] C=1, gamma=0.1 ..................................................\n",
      "[CV] ......... C=1, gamma=0.1, score=0.7679765886287625, total=   0.1s\n",
      "[CV] C=1, gamma=0.1 ..................................................\n",
      "[CV] ......... C=1, gamma=0.1, score=0.7733166039314094, total=   0.1s\n",
      "[CV] C=1, gamma=0.1 ..................................................\n",
      "[CV] ......... C=1, gamma=0.1, score=0.7778242677824267, total=   0.1s\n",
      "[CV] C=1, gamma=1 ....................................................\n",
      "[CV] ........... C=1, gamma=1, score=0.7679765886287625, total=   0.1s\n",
      "[CV] C=1, gamma=1 ....................................................\n",
      "[CV] ........... C=1, gamma=1, score=0.7733166039314094, total=   0.1s\n",
      "[CV] C=1, gamma=1 ....................................................\n",
      "[CV] ........... C=1, gamma=1, score=0.7778242677824267, total=   0.1s\n",
      "[CV] C=1, gamma=5 ....................................................\n",
      "[CV] ........... C=1, gamma=5, score=0.7679765886287625, total=   0.2s\n",
      "[CV] C=1, gamma=5 ....................................................\n",
      "[CV] ........... C=1, gamma=5, score=0.7733166039314094, total=   0.2s\n",
      "[CV] C=1, gamma=5 ....................................................\n",
      "[CV] ........... C=1, gamma=5, score=0.7778242677824267, total=   0.2s\n",
      "[CV] C=1, gamma=10 ...................................................\n",
      "[CV] .......... C=1, gamma=10, score=0.7679765886287625, total=   0.1s\n",
      "[CV] C=1, gamma=10 ...................................................\n",
      "[CV] .......... C=1, gamma=10, score=0.7733166039314094, total=   0.1s\n",
      "[CV] C=1, gamma=10 ...................................................\n",
      "[CV] .......... C=1, gamma=10, score=0.7778242677824267, total=   0.1s\n",
      "[CV] C=5, gamma=0.0001 ...............................................\n",
      "[CV] ...... C=5, gamma=0.0001, score=0.7688127090301003, total=   0.1s\n",
      "[CV] C=5, gamma=0.0001 ...............................................\n",
      "[CV] ...... C=5, gamma=0.0001, score=0.7749895441237976, total=   0.1s\n",
      "[CV] C=5, gamma=0.0001 ...............................................\n",
      "[CV] ...... C=5, gamma=0.0001, score=0.7736401673640168, total=   0.1s\n",
      "[CV] C=5, gamma=0.001 ................................................\n",
      "[CV] ....... C=5, gamma=0.001, score=0.7688127090301003, total=   0.1s\n",
      "[CV] C=5, gamma=0.001 ................................................\n",
      "[CV] ....... C=5, gamma=0.001, score=0.7749895441237976, total=   0.1s\n",
      "[CV] C=5, gamma=0.001 ................................................\n",
      "[CV] ....... C=5, gamma=0.001, score=0.7736401673640168, total=   0.1s\n",
      "[CV] C=5, gamma=0.01 .................................................\n",
      "[CV] ........ C=5, gamma=0.01, score=0.7688127090301003, total=   0.1s\n",
      "[CV] C=5, gamma=0.01 .................................................\n",
      "[CV] ........ C=5, gamma=0.01, score=0.7749895441237976, total=   0.1s\n",
      "[CV] C=5, gamma=0.01 .................................................\n",
      "[CV] ........ C=5, gamma=0.01, score=0.7736401673640168, total=   0.1s\n",
      "[CV] C=5, gamma=0.1 ..................................................\n",
      "[CV] ......... C=5, gamma=0.1, score=0.7688127090301003, total=   0.1s\n",
      "[CV] C=5, gamma=0.1 ..................................................\n",
      "[CV] ......... C=5, gamma=0.1, score=0.7749895441237976, total=   0.1s\n",
      "[CV] C=5, gamma=0.1 ..................................................\n",
      "[CV] ......... C=5, gamma=0.1, score=0.7736401673640168, total=   0.1s\n",
      "[CV] C=5, gamma=1 ....................................................\n",
      "[CV] ........... C=5, gamma=1, score=0.7688127090301003, total=   0.1s\n",
      "[CV] C=5, gamma=1 ....................................................\n",
      "[CV] ........... C=5, gamma=1, score=0.7749895441237976, total=   0.1s\n",
      "[CV] C=5, gamma=1 ....................................................\n",
      "[CV] ........... C=5, gamma=1, score=0.7736401673640168, total=   0.1s\n",
      "[CV] C=5, gamma=5 ....................................................\n",
      "[CV] ........... C=5, gamma=5, score=0.7688127090301003, total=   0.1s\n",
      "[CV] C=5, gamma=5 ....................................................\n",
      "[CV] ........... C=5, gamma=5, score=0.7749895441237976, total=   0.1s\n",
      "[CV] C=5, gamma=5 ....................................................\n"
     ]
    },
    {
     "name": "stdout",
     "output_type": "stream",
     "text": [
      "[CV] ........... C=5, gamma=5, score=0.7736401673640168, total=   0.1s\n",
      "[CV] C=5, gamma=10 ...................................................\n",
      "[CV] .......... C=5, gamma=10, score=0.7688127090301003, total=   0.1s\n",
      "[CV] C=5, gamma=10 ...................................................\n",
      "[CV] .......... C=5, gamma=10, score=0.7749895441237976, total=   0.1s\n",
      "[CV] C=5, gamma=10 ...................................................\n",
      "[CV] .......... C=5, gamma=10, score=0.7736401673640168, total=   0.1s\n",
      "[CV] C=10, gamma=0.0001 ..............................................\n",
      "[CV] ..... C=10, gamma=0.0001, score=0.7683946488294314, total=   0.1s\n",
      "[CV] C=10, gamma=0.0001 ..............................................\n",
      "[CV] ..... C=10, gamma=0.0001, score=0.7774989544123797, total=   0.1s\n",
      "[CV] C=10, gamma=0.0001 ..............................................\n",
      "[CV] ..... C=10, gamma=0.0001, score=0.7673640167364016, total=   0.1s\n",
      "[CV] C=10, gamma=0.001 ...............................................\n",
      "[CV] ...... C=10, gamma=0.001, score=0.7683946488294314, total=   0.1s\n",
      "[CV] C=10, gamma=0.001 ...............................................\n",
      "[CV] ...... C=10, gamma=0.001, score=0.7774989544123797, total=   0.1s\n",
      "[CV] C=10, gamma=0.001 ...............................................\n",
      "[CV] ...... C=10, gamma=0.001, score=0.7673640167364016, total=   0.1s\n",
      "[CV] C=10, gamma=0.01 ................................................\n",
      "[CV] ....... C=10, gamma=0.01, score=0.7683946488294314, total=   0.1s\n",
      "[CV] C=10, gamma=0.01 ................................................\n",
      "[CV] ....... C=10, gamma=0.01, score=0.7774989544123797, total=   0.1s\n",
      "[CV] C=10, gamma=0.01 ................................................\n",
      "[CV] ....... C=10, gamma=0.01, score=0.7673640167364016, total=   0.1s\n",
      "[CV] C=10, gamma=0.1 .................................................\n",
      "[CV] ........ C=10, gamma=0.1, score=0.7683946488294314, total=   0.1s\n",
      "[CV] C=10, gamma=0.1 .................................................\n",
      "[CV] ........ C=10, gamma=0.1, score=0.7774989544123797, total=   0.1s\n",
      "[CV] C=10, gamma=0.1 .................................................\n",
      "[CV] ........ C=10, gamma=0.1, score=0.7673640167364016, total=   0.1s\n",
      "[CV] C=10, gamma=1 ...................................................\n",
      "[CV] .......... C=10, gamma=1, score=0.7683946488294314, total=   0.2s\n",
      "[CV] C=10, gamma=1 ...................................................\n",
      "[CV] .......... C=10, gamma=1, score=0.7774989544123797, total=   0.1s\n",
      "[CV] C=10, gamma=1 ...................................................\n",
      "[CV] .......... C=10, gamma=1, score=0.7673640167364016, total=   0.1s\n",
      "[CV] C=10, gamma=5 ...................................................\n",
      "[CV] .......... C=10, gamma=5, score=0.7683946488294314, total=   0.1s\n",
      "[CV] C=10, gamma=5 ...................................................\n",
      "[CV] .......... C=10, gamma=5, score=0.7774989544123797, total=   0.1s\n",
      "[CV] C=10, gamma=5 ...................................................\n",
      "[CV] .......... C=10, gamma=5, score=0.7673640167364016, total=   0.1s\n",
      "[CV] C=10, gamma=10 ..................................................\n",
      "[CV] ......... C=10, gamma=10, score=0.7683946488294314, total=   0.1s\n",
      "[CV] C=10, gamma=10 ..................................................\n",
      "[CV] ......... C=10, gamma=10, score=0.7774989544123797, total=   0.1s\n",
      "[CV] C=10, gamma=10 ..................................................\n",
      "[CV] ......... C=10, gamma=10, score=0.7673640167364016, total=   0.1s\n"
     ]
    },
    {
     "name": "stderr",
     "output_type": "stream",
     "text": [
      "[Parallel(n_jobs=1)]: Done 147 out of 147 | elapsed:  1.2min finished\n"
     ]
    },
    {
     "data": {
      "text/plain": [
       "GridSearchCV(cv='warn', error_score='raise-deprecating',\n",
       "       estimator=SVC(C=1.0, cache_size=200, class_weight=None, coef0=0.0,\n",
       "  decision_function_shape='ovr', degree=3, gamma='auto_deprecated',\n",
       "  kernel='linear', max_iter=-1, probability=False, random_state=None,\n",
       "  shrinking=True, tol=0.001, verbose=False),\n",
       "       fit_params=None, iid='warn', n_jobs=None,\n",
       "       param_grid={'C': [0.0001, 0.001, 0.01, 0.1, 1, 5, 10], 'gamma': [0.0001, 0.001, 0.01, 0.1, 1, 5, 10]},\n",
       "       pre_dispatch='2*n_jobs', refit=True, return_train_score='warn',\n",
       "       scoring=None, verbose=7)"
      ]
     },
     "execution_count": 34,
     "metadata": {},
     "output_type": "execute_result"
    }
   ],
   "source": [
    "# Create a parameter grid to tune the C and gamma variables \n",
    "parameter_grid = {'C': [0.0001, 0.001, 0.01, 0.1, 1, 5, 10],\n",
    "              'gamma': [0.0001, 0.001, 0.01, 0.1, 1, 5, 10]}\n",
    "\n",
    "tuned_grid = GridSearchCV(svm_linear, parameter_grid, verbose=7)\n",
    "\n",
    "tuned_grid.fit(X_train_scaled, y_train)"
   ]
  },
  {
   "cell_type": "code",
   "execution_count": 33,
   "metadata": {},
   "outputs": [
    {
     "name": "stdout",
     "output_type": "stream",
     "text": [
      "{'C': 1, 'gamma': 0.0001}\n",
      "0.7730377805660115\n"
     ]
    }
   ],
   "source": [
    "print(tuned_grid.best_params_)\n",
    "print(tuned_grid.best_score_)"
   ]
  },
  {
   "cell_type": "markdown",
   "metadata": {},
   "source": [
    "# SVC Model"
   ]
  },
  {
   "cell_type": "code",
   "execution_count": 35,
   "metadata": {},
   "outputs": [
    {
     "name": "stderr",
     "output_type": "stream",
     "text": [
      "C:\\Users\\Courtney\\Anaconda3\\lib\\site-packages\\sklearn\\svm\\base.py:196: FutureWarning: The default value of gamma will change from 'auto' to 'scale' in version 0.22 to account better for unscaled features. Set gamma explicitly to 'auto' or 'scale' to avoid this warning.\n",
      "  \"avoid this warning.\", FutureWarning)\n"
     ]
    },
    {
     "name": "stdout",
     "output_type": "stream",
     "text": [
      "Training Data Score: 0.5251638087271714\n",
      "Testing Data Score: 0.5253032204098703\n"
     ]
    }
   ],
   "source": [
    "svc = SVC()\n",
    "svc.fit(X_train,y_train)\n",
    "pred_svc =svc.predict(X_test)\n",
    "\n",
    "print(f\"Training Data Score: {svc.score(X_train_scaled, y_train)}\")\n",
    "print(f\"Testing Data Score: {svc.score(X_test_scaled, y_test)}\")"
   ]
  },
  {
   "cell_type": "markdown",
   "metadata": {},
   "source": [
    "# Random Forest"
   ]
  },
  {
   "cell_type": "code",
   "execution_count": 44,
   "metadata": {},
   "outputs": [
    {
     "name": "stdout",
     "output_type": "stream",
     "text": [
      "                precision    recall  f1-score   support\n",
      "\n",
      "     CANDIDATE       0.65      0.64      0.65       562\n",
      "     CONFIRMED       0.66      0.68      0.67       573\n",
      "FALSE POSITIVE       0.98      0.98      0.98      1256\n",
      "\n",
      "     micro avg       0.83      0.83      0.83      2391\n",
      "     macro avg       0.76      0.76      0.76      2391\n",
      "  weighted avg       0.83      0.83      0.83      2391\n",
      "\n"
     ]
    }
   ],
   "source": [
    "random_forest = RandomForestClassifier(n_estimators=250)\n",
    "random_forest.fit(X_train, y_train)\n",
    "random_forest_predictions = random_forest.predict(X_test)\n",
    "print(classification_report(y_test, random_forest_predictions))"
   ]
  },
  {
   "cell_type": "code",
   "execution_count": null,
   "metadata": {},
   "outputs": [],
   "source": []
  },
  {
   "cell_type": "code",
   "execution_count": null,
   "metadata": {},
   "outputs": [],
   "source": []
  },
  {
   "cell_type": "code",
   "execution_count": null,
   "metadata": {},
   "outputs": [],
   "source": []
  },
  {
   "cell_type": "code",
   "execution_count": null,
   "metadata": {},
   "outputs": [],
   "source": []
  }
 ],
 "metadata": {
  "kernelspec": {
   "display_name": "Python 3",
   "language": "python",
   "name": "python3"
  },
  "language_info": {
   "codemirror_mode": {
    "name": "ipython",
    "version": 3
   },
   "file_extension": ".py",
   "mimetype": "text/x-python",
   "name": "python",
   "nbconvert_exporter": "python",
   "pygments_lexer": "ipython3",
   "version": "3.6.7"
  }
 },
 "nbformat": 4,
 "nbformat_minor": 2
}
